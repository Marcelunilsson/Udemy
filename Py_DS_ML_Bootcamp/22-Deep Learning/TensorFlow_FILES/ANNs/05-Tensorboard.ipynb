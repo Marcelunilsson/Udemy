{
 "cells": [
  {
   "cell_type": "markdown",
   "metadata": {},
   "source": [
    "<a href=\"https://www.pieriandata.com\"><img src=\"../Pierian_Data_Logo.PNG\"></a>\n",
    "<strong><center>Copyright by Pierian Data Inc.</center></strong> \n",
    "<strong><center>Created by Jose Marcial Portilla.</center></strong>"
   ]
  },
  {
   "cell_type": "markdown",
   "metadata": {},
   "source": [
    "# Tensorboard\n",
    "\n",
    "---\n",
    "---\n",
    "\n",
    "**NOTE: You must watch the corresponding video to understand this lecture. This notebook can't serve as a full guide. Please watch the video BEFORE posting questions to the QA forum.**\n",
    "\n",
    "---\n",
    "---\n",
    "\n",
    "Let's explore the built in data visualization capabilities that come with Tensorboard.\n",
    "\n",
    "Full official tutorial available here: https://www.tensorflow.org/tensorboard/get_started\n",
    "\n",
    "## Data"
   ]
  },
  {
   "cell_type": "code",
   "execution_count": 1,
   "metadata": {},
   "outputs": [],
   "source": [
    "import pandas as pd\n",
    "import numpy as np"
   ]
  },
  {
   "cell_type": "code",
   "execution_count": 2,
   "metadata": {},
   "outputs": [],
   "source": [
    "df = pd.read_csv('../DATA/cancer_classification.csv')"
   ]
  },
  {
   "cell_type": "markdown",
   "metadata": {},
   "source": [
    "### Train Test Split"
   ]
  },
  {
   "cell_type": "code",
   "execution_count": 3,
   "metadata": {},
   "outputs": [],
   "source": [
    "X = df.drop('benign_0__mal_1',axis=1).values\n",
    "y = df['benign_0__mal_1'].values"
   ]
  },
  {
   "cell_type": "code",
   "execution_count": 4,
   "metadata": {},
   "outputs": [],
   "source": [
    "from sklearn.model_selection import train_test_split"
   ]
  },
  {
   "cell_type": "code",
   "execution_count": 5,
   "metadata": {},
   "outputs": [],
   "source": [
    "X_train, X_test, y_train, y_test = train_test_split(X,y,test_size=0.25,random_state=101)"
   ]
  },
  {
   "cell_type": "markdown",
   "metadata": {},
   "source": [
    "\n",
    "### Scaling Data"
   ]
  },
  {
   "cell_type": "code",
   "execution_count": 6,
   "metadata": {},
   "outputs": [],
   "source": [
    "from sklearn.preprocessing import MinMaxScaler"
   ]
  },
  {
   "cell_type": "code",
   "execution_count": 7,
   "metadata": {},
   "outputs": [],
   "source": [
    "scaler = MinMaxScaler()"
   ]
  },
  {
   "cell_type": "code",
   "execution_count": 8,
   "metadata": {},
   "outputs": [
    {
     "data": {
      "text/plain": [
       "MinMaxScaler()"
      ]
     },
     "execution_count": 8,
     "metadata": {},
     "output_type": "execute_result"
    }
   ],
   "source": [
    "scaler.fit(X_train)"
   ]
  },
  {
   "cell_type": "code",
   "execution_count": 9,
   "metadata": {},
   "outputs": [],
   "source": [
    "X_train = scaler.transform(X_train)\n",
    "X_test = scaler.transform(X_test)"
   ]
  },
  {
   "cell_type": "markdown",
   "metadata": {},
   "source": [
    "## Creating the Model"
   ]
  },
  {
   "cell_type": "code",
   "execution_count": 10,
   "metadata": {},
   "outputs": [],
   "source": [
    "import tensorflow as tf\n",
    "from tensorflow.keras.models import Sequential\n",
    "from tensorflow.keras.layers import Dense, Activation,Dropout"
   ]
  },
  {
   "cell_type": "code",
   "execution_count": 11,
   "metadata": {},
   "outputs": [],
   "source": [
    "from tensorflow.keras.callbacks import EarlyStopping,TensorBoard"
   ]
  },
  {
   "cell_type": "code",
   "execution_count": 12,
   "metadata": {},
   "outputs": [],
   "source": [
    "early_stop = EarlyStopping(monitor='val_loss', mode='min', verbose=1, patience=25)"
   ]
  },
  {
   "cell_type": "code",
   "execution_count": 13,
   "metadata": {},
   "outputs": [
    {
     "data": {
      "text/plain": [
       "'/home/marcel/Udemy/Py_DS_ML_Bootcamp/22-Deep Learning/TensorFlow_FILES/ANNs'"
      ]
     },
     "execution_count": 13,
     "metadata": {},
     "output_type": "execute_result"
    }
   ],
   "source": [
    "pwd"
   ]
  },
  {
   "cell_type": "markdown",
   "metadata": {},
   "source": [
    "## Creating the Tensorboard Callback\n",
    "\n",
    "TensorBoard is a visualization tool provided with TensorFlow.\n",
    "\n",
    "This callback logs events for TensorBoard, including:\n",
    "* Metrics summary plots\n",
    "* Training graph visualization\n",
    "* Activation histograms\n",
    "* Sampled profiling\n",
    "\n",
    "If you have installed TensorFlow with pip, you should be able\n",
    "to launch TensorBoard from the command line:\n",
    "\n",
    "```sh\n",
    "tensorboard --logdir=path_to_your_logs\n",
    "```\n",
    "\n",
    "You can find more information about TensorBoard\n",
    "[here](https://www.tensorflow.org/tensorboard/).\n",
    "\n",
    "    Arguments:\n",
    "        log_dir: the path of the directory where to save the log files to be\n",
    "          parsed by TensorBoard.\n",
    "        histogram_freq: frequency (in epochs) at which to compute activation and\n",
    "          weight histograms for the layers of the model. If set to 0, histograms\n",
    "          won't be computed. Validation data (or split) must be specified for\n",
    "          histogram visualizations.\n",
    "        write_graph: whether to visualize the graph in TensorBoard. The log file\n",
    "          can become quite large when write_graph is set to True.\n",
    "        write_images: whether to write model weights to visualize as image in\n",
    "          TensorBoard.\n",
    "        update_freq: `'batch'` or `'epoch'` or integer. When using `'batch'`,\n",
    "          writes the losses and metrics to TensorBoard after each batch. The same\n",
    "          applies for `'epoch'`. If using an integer, let's say `1000`, the\n",
    "          callback will write the metrics and losses to TensorBoard every 1000\n",
    "          samples. Note that writing too frequently to TensorBoard can slow down\n",
    "          your training.\n",
    "        profile_batch: Profile the batch to sample compute characteristics. By\n",
    "          default, it will profile the second batch. Set profile_batch=0 to\n",
    "          disable profiling. Must run in TensorFlow eager mode.\n",
    "        embeddings_freq: frequency (in epochs) at which embedding layers will\n",
    "          be visualized. If set to 0, embeddings won't be visualized.\n",
    "       "
   ]
  },
  {
   "cell_type": "code",
   "execution_count": 14,
   "metadata": {},
   "outputs": [],
   "source": [
    "from datetime import datetime"
   ]
  },
  {
   "cell_type": "code",
   "execution_count": 15,
   "metadata": {},
   "outputs": [
    {
     "data": {
      "text/plain": [
       "'2022-02-02--1137'"
      ]
     },
     "execution_count": 15,
     "metadata": {},
     "output_type": "execute_result"
    }
   ],
   "source": [
    "datetime.now().strftime(\"%Y-%m-%d--%H%M\")"
   ]
  },
  {
   "cell_type": "code",
   "execution_count": 16,
   "metadata": {},
   "outputs": [],
   "source": [
    "# WINDOWS: Use \"logs\\\\fit\"\n",
    "# MACOS/LINUX: Use \"logs\\fit\"\n",
    "\n",
    "log_directory = 'logs/fit'\n",
    "\n",
    "# OPTIONAL: ADD A TIMESTAMP FOR UNIQUE FOLDER\n",
    "# timestamp = datetime.now().strftime(\"%Y-%m-%d--%H%M\")\n",
    "# log_directory = log_directory + '\\\\' + timestamp\n",
    "\n",
    "\n",
    "board = TensorBoard(log_dir=log_directory,histogram_freq=1,\n",
    "    write_graph=True,\n",
    "    write_images=True,\n",
    "    update_freq='epoch',\n",
    "    profile_batch=2,\n",
    "    embeddings_freq=1)"
   ]
  },
  {
   "cell_type": "markdown",
   "metadata": {},
   "source": [
    "Now create the model layers:"
   ]
  },
  {
   "cell_type": "code",
   "execution_count": 17,
   "metadata": {},
   "outputs": [],
   "source": [
    "model = Sequential()\n",
    "model.add(Dense(units=30,activation='relu'))\n",
    "model.add(Dropout(0.5))\n",
    "model.add(Dense(units=15,activation='relu'))\n",
    "model.add(Dropout(0.5))\n",
    "model.add(Dense(units=1,activation='sigmoid'))\n",
    "model.compile(loss='binary_crossentropy', optimizer='adam')"
   ]
  },
  {
   "cell_type": "markdown",
   "metadata": {},
   "source": [
    "## Train the Model"
   ]
  },
  {
   "cell_type": "code",
   "execution_count": 18,
   "metadata": {},
   "outputs": [
    {
     "name": "stdout",
     "output_type": "stream",
     "text": [
      "Epoch 1/600\n",
      "14/14 [==============================] - 1s 25ms/step - loss: 0.6806 - val_loss: 0.6583\n",
      "Epoch 2/600\n",
      "14/14 [==============================] - 0s 3ms/step - loss: 0.6566 - val_loss: 0.6223\n",
      "Epoch 3/600\n",
      "14/14 [==============================] - 0s 3ms/step - loss: 0.6447 - val_loss: 0.5924\n",
      "Epoch 4/600\n",
      "14/14 [==============================] - 0s 5ms/step - loss: 0.6266 - val_loss: 0.5667\n",
      "Epoch 5/600\n",
      "14/14 [==============================] - 0s 4ms/step - loss: 0.5991 - val_loss: 0.5400\n",
      "Epoch 6/600\n",
      "14/14 [==============================] - 0s 4ms/step - loss: 0.5997 - val_loss: 0.5156\n",
      "Epoch 7/600\n",
      "14/14 [==============================] - 0s 3ms/step - loss: 0.5908 - val_loss: 0.4917\n",
      "Epoch 8/600\n",
      "14/14 [==============================] - 0s 4ms/step - loss: 0.5299 - val_loss: 0.4632\n",
      "Epoch 9/600\n",
      "14/14 [==============================] - 0s 4ms/step - loss: 0.4906 - val_loss: 0.4332\n",
      "Epoch 10/600\n",
      "14/14 [==============================] - 0s 3ms/step - loss: 0.4920 - val_loss: 0.4041\n",
      "Epoch 11/600\n",
      "14/14 [==============================] - 0s 3ms/step - loss: 0.4854 - val_loss: 0.3815\n",
      "Epoch 12/600\n",
      "14/14 [==============================] - 0s 4ms/step - loss: 0.4601 - val_loss: 0.3588\n",
      "Epoch 13/600\n",
      "14/14 [==============================] - 0s 3ms/step - loss: 0.4172 - val_loss: 0.3330\n",
      "Epoch 14/600\n",
      "14/14 [==============================] - 0s 3ms/step - loss: 0.4239 - val_loss: 0.3122\n",
      "Epoch 15/600\n",
      "14/14 [==============================] - 0s 3ms/step - loss: 0.4161 - val_loss: 0.2961\n",
      "Epoch 16/600\n",
      "14/14 [==============================] - 0s 4ms/step - loss: 0.3813 - val_loss: 0.2776\n",
      "Epoch 17/600\n",
      "14/14 [==============================] - 0s 3ms/step - loss: 0.3543 - val_loss: 0.2575\n",
      "Epoch 18/600\n",
      "14/14 [==============================] - 0s 3ms/step - loss: 0.3460 - val_loss: 0.2409\n",
      "Epoch 19/600\n",
      "14/14 [==============================] - 0s 3ms/step - loss: 0.3255 - val_loss: 0.2326\n",
      "Epoch 20/600\n",
      "14/14 [==============================] - 0s 4ms/step - loss: 0.3351 - val_loss: 0.2243\n",
      "Epoch 21/600\n",
      "14/14 [==============================] - 0s 3ms/step - loss: 0.3439 - val_loss: 0.2143\n",
      "Epoch 22/600\n",
      "14/14 [==============================] - 0s 3ms/step - loss: 0.2974 - val_loss: 0.2031\n",
      "Epoch 23/600\n",
      "14/14 [==============================] - 0s 3ms/step - loss: 0.2613 - val_loss: 0.1937\n",
      "Epoch 24/600\n",
      "14/14 [==============================] - 0s 4ms/step - loss: 0.2650 - val_loss: 0.1940\n",
      "Epoch 25/600\n",
      "14/14 [==============================] - 0s 4ms/step - loss: 0.2938 - val_loss: 0.1794\n",
      "Epoch 26/600\n",
      "14/14 [==============================] - 0s 4ms/step - loss: 0.2576 - val_loss: 0.1741\n",
      "Epoch 27/600\n",
      "14/14 [==============================] - 0s 3ms/step - loss: 0.3125 - val_loss: 0.1721\n",
      "Epoch 28/600\n",
      "14/14 [==============================] - 0s 4ms/step - loss: 0.2542 - val_loss: 0.1653\n",
      "Epoch 29/600\n",
      "14/14 [==============================] - 0s 6ms/step - loss: 0.2642 - val_loss: 0.1613\n",
      "Epoch 30/600\n",
      "14/14 [==============================] - 0s 4ms/step - loss: 0.2564 - val_loss: 0.1591\n",
      "Epoch 31/600\n",
      "14/14 [==============================] - 0s 4ms/step - loss: 0.2776 - val_loss: 0.1591\n",
      "Epoch 32/600\n",
      "14/14 [==============================] - 0s 3ms/step - loss: 0.2772 - val_loss: 0.1543\n",
      "Epoch 33/600\n",
      "14/14 [==============================] - 0s 3ms/step - loss: 0.2068 - val_loss: 0.1482\n",
      "Epoch 34/600\n",
      "14/14 [==============================] - 0s 3ms/step - loss: 0.2362 - val_loss: 0.1448\n",
      "Epoch 35/600\n",
      "14/14 [==============================] - 0s 3ms/step - loss: 0.2353 - val_loss: 0.1471\n",
      "Epoch 36/600\n",
      "14/14 [==============================] - 0s 3ms/step - loss: 0.1860 - val_loss: 0.1398\n",
      "Epoch 37/600\n",
      "14/14 [==============================] - 0s 3ms/step - loss: 0.1911 - val_loss: 0.1340\n",
      "Epoch 38/600\n",
      "14/14 [==============================] - 0s 4ms/step - loss: 0.1893 - val_loss: 0.1349\n",
      "Epoch 39/600\n",
      "14/14 [==============================] - 0s 3ms/step - loss: 0.1761 - val_loss: 0.1297\n",
      "Epoch 40/600\n",
      "14/14 [==============================] - 0s 3ms/step - loss: 0.1942 - val_loss: 0.1318\n",
      "Epoch 41/600\n",
      "14/14 [==============================] - 0s 3ms/step - loss: 0.1884 - val_loss: 0.1312\n",
      "Epoch 42/600\n",
      "14/14 [==============================] - 0s 3ms/step - loss: 0.1531 - val_loss: 0.1330\n",
      "Epoch 43/600\n",
      "14/14 [==============================] - 0s 4ms/step - loss: 0.1742 - val_loss: 0.1261\n",
      "Epoch 44/600\n",
      "14/14 [==============================] - 0s 3ms/step - loss: 0.1803 - val_loss: 0.1300\n",
      "Epoch 45/600\n",
      "14/14 [==============================] - 0s 3ms/step - loss: 0.1710 - val_loss: 0.1240\n",
      "Epoch 46/600\n",
      "14/14 [==============================] - 0s 3ms/step - loss: 0.1764 - val_loss: 0.1221\n",
      "Epoch 47/600\n",
      "14/14 [==============================] - 0s 4ms/step - loss: 0.1671 - val_loss: 0.1205\n",
      "Epoch 48/600\n",
      "14/14 [==============================] - 0s 3ms/step - loss: 0.1591 - val_loss: 0.1184\n",
      "Epoch 49/600\n",
      "14/14 [==============================] - 0s 4ms/step - loss: 0.1360 - val_loss: 0.1187\n",
      "Epoch 50/600\n",
      "14/14 [==============================] - 0s 3ms/step - loss: 0.1633 - val_loss: 0.1253\n",
      "Epoch 51/600\n",
      "14/14 [==============================] - 0s 4ms/step - loss: 0.1657 - val_loss: 0.1166\n",
      "Epoch 52/600\n",
      "14/14 [==============================] - 0s 4ms/step - loss: 0.1533 - val_loss: 0.1262\n",
      "Epoch 53/600\n",
      "14/14 [==============================] - 0s 3ms/step - loss: 0.1477 - val_loss: 0.1150\n",
      "Epoch 54/600\n",
      "14/14 [==============================] - 0s 4ms/step - loss: 0.1237 - val_loss: 0.1108\n",
      "Epoch 55/600\n",
      "14/14 [==============================] - 0s 4ms/step - loss: 0.1659 - val_loss: 0.1260\n",
      "Epoch 56/600\n",
      "14/14 [==============================] - 0s 4ms/step - loss: 0.1533 - val_loss: 0.1086\n",
      "Epoch 57/600\n",
      "14/14 [==============================] - 0s 4ms/step - loss: 0.1746 - val_loss: 0.1116\n",
      "Epoch 58/600\n",
      "14/14 [==============================] - 0s 3ms/step - loss: 0.1464 - val_loss: 0.1154\n",
      "Epoch 59/600\n",
      "14/14 [==============================] - 0s 4ms/step - loss: 0.1143 - val_loss: 0.1141\n",
      "Epoch 60/600\n",
      "14/14 [==============================] - 0s 3ms/step - loss: 0.1454 - val_loss: 0.1138\n",
      "Epoch 61/600\n",
      "14/14 [==============================] - 0s 3ms/step - loss: 0.1497 - val_loss: 0.1089\n",
      "Epoch 62/600\n",
      "14/14 [==============================] - 0s 3ms/step - loss: 0.1360 - val_loss: 0.1138\n",
      "Epoch 63/600\n",
      "14/14 [==============================] - 0s 3ms/step - loss: 0.1404 - val_loss: 0.1191\n",
      "Epoch 64/600\n",
      "14/14 [==============================] - 0s 3ms/step - loss: 0.1379 - val_loss: 0.1065\n",
      "Epoch 65/600\n",
      "14/14 [==============================] - 0s 4ms/step - loss: 0.1449 - val_loss: 0.1084\n",
      "Epoch 66/600\n",
      "14/14 [==============================] - 0s 4ms/step - loss: 0.1252 - val_loss: 0.1077\n",
      "Epoch 67/600\n",
      "14/14 [==============================] - 0s 4ms/step - loss: 0.1151 - val_loss: 0.1072\n",
      "Epoch 68/600\n",
      "14/14 [==============================] - 0s 4ms/step - loss: 0.1198 - val_loss: 0.1209\n",
      "Epoch 69/600\n",
      "14/14 [==============================] - 0s 4ms/step - loss: 0.1153 - val_loss: 0.1080\n",
      "Epoch 70/600\n",
      "14/14 [==============================] - 0s 4ms/step - loss: 0.1327 - val_loss: 0.1040\n",
      "Epoch 71/600\n",
      "14/14 [==============================] - 0s 4ms/step - loss: 0.1159 - val_loss: 0.1095\n",
      "Epoch 72/600\n",
      "14/14 [==============================] - 0s 3ms/step - loss: 0.1215 - val_loss: 0.1054\n",
      "Epoch 73/600\n",
      "14/14 [==============================] - 0s 3ms/step - loss: 0.1359 - val_loss: 0.1043\n",
      "Epoch 74/600\n",
      "14/14 [==============================] - 0s 3ms/step - loss: 0.1223 - val_loss: 0.1062\n",
      "Epoch 75/600\n",
      "14/14 [==============================] - 0s 4ms/step - loss: 0.1278 - val_loss: 0.1053\n",
      "Epoch 76/600\n",
      "14/14 [==============================] - 0s 4ms/step - loss: 0.1009 - val_loss: 0.1060\n",
      "Epoch 77/600\n",
      "14/14 [==============================] - 0s 4ms/step - loss: 0.0988 - val_loss: 0.1077\n",
      "Epoch 78/600\n",
      "14/14 [==============================] - 0s 4ms/step - loss: 0.1173 - val_loss: 0.1092\n",
      "Epoch 79/600\n",
      "14/14 [==============================] - 0s 4ms/step - loss: 0.0915 - val_loss: 0.1047\n",
      "Epoch 80/600\n",
      "14/14 [==============================] - 0s 3ms/step - loss: 0.1301 - val_loss: 0.1185\n",
      "Epoch 81/600\n",
      "14/14 [==============================] - 0s 3ms/step - loss: 0.1129 - val_loss: 0.1012\n",
      "Epoch 82/600\n",
      "14/14 [==============================] - 0s 4ms/step - loss: 0.1408 - val_loss: 0.1030\n",
      "Epoch 83/600\n",
      "14/14 [==============================] - 0s 4ms/step - loss: 0.1104 - val_loss: 0.1062\n",
      "Epoch 84/600\n",
      "14/14 [==============================] - 0s 3ms/step - loss: 0.0927 - val_loss: 0.1013\n",
      "Epoch 85/600\n",
      "14/14 [==============================] - 0s 4ms/step - loss: 0.1019 - val_loss: 0.1004\n",
      "Epoch 86/600\n",
      "14/14 [==============================] - 0s 4ms/step - loss: 0.1114 - val_loss: 0.1062\n",
      "Epoch 87/600\n",
      "14/14 [==============================] - 0s 6ms/step - loss: 0.1067 - val_loss: 0.1025\n",
      "Epoch 88/600\n",
      "14/14 [==============================] - 0s 3ms/step - loss: 0.0915 - val_loss: 0.1023\n",
      "Epoch 89/600\n",
      "14/14 [==============================] - 0s 4ms/step - loss: 0.1061 - val_loss: 0.1023\n",
      "Epoch 90/600\n",
      "14/14 [==============================] - 0s 4ms/step - loss: 0.1203 - val_loss: 0.1098\n",
      "Epoch 91/600\n",
      "14/14 [==============================] - 0s 4ms/step - loss: 0.0742 - val_loss: 0.1036\n",
      "Epoch 92/600\n",
      "14/14 [==============================] - 0s 4ms/step - loss: 0.1172 - val_loss: 0.1000\n",
      "Epoch 93/600\n",
      "14/14 [==============================] - 0s 4ms/step - loss: 0.1103 - val_loss: 0.1096\n",
      "Epoch 94/600\n",
      "14/14 [==============================] - 0s 4ms/step - loss: 0.1128 - val_loss: 0.1010\n",
      "Epoch 95/600\n",
      "14/14 [==============================] - 0s 4ms/step - loss: 0.0960 - val_loss: 0.1093\n",
      "Epoch 96/600\n",
      "14/14 [==============================] - 0s 4ms/step - loss: 0.1068 - val_loss: 0.1020\n",
      "Epoch 97/600\n",
      "14/14 [==============================] - 0s 4ms/step - loss: 0.0917 - val_loss: 0.1067\n",
      "Epoch 98/600\n",
      "14/14 [==============================] - 0s 3ms/step - loss: 0.0948 - val_loss: 0.1106\n",
      "Epoch 99/600\n",
      "14/14 [==============================] - 0s 4ms/step - loss: 0.0957 - val_loss: 0.1024\n",
      "Epoch 100/600\n",
      "14/14 [==============================] - 0s 4ms/step - loss: 0.1064 - val_loss: 0.1007\n",
      "Epoch 101/600\n",
      "14/14 [==============================] - 0s 4ms/step - loss: 0.0750 - val_loss: 0.1126\n",
      "Epoch 102/600\n",
      "14/14 [==============================] - 0s 4ms/step - loss: 0.1023 - val_loss: 0.1019\n",
      "Epoch 103/600\n",
      "14/14 [==============================] - 0s 4ms/step - loss: 0.1263 - val_loss: 0.1087\n",
      "Epoch 104/600\n",
      "14/14 [==============================] - 0s 4ms/step - loss: 0.0763 - val_loss: 0.1072\n",
      "Epoch 105/600\n",
      "14/14 [==============================] - 0s 4ms/step - loss: 0.1203 - val_loss: 0.1102\n",
      "Epoch 106/600\n",
      "14/14 [==============================] - 0s 5ms/step - loss: 0.0943 - val_loss: 0.1086\n",
      "Epoch 107/600\n",
      "14/14 [==============================] - 0s 4ms/step - loss: 0.0975 - val_loss: 0.1034\n",
      "Epoch 108/600\n",
      "14/14 [==============================] - 0s 4ms/step - loss: 0.0916 - val_loss: 0.1049\n",
      "Epoch 109/600\n",
      "14/14 [==============================] - 0s 4ms/step - loss: 0.0882 - val_loss: 0.1063\n",
      "Epoch 110/600\n",
      "14/14 [==============================] - 0s 3ms/step - loss: 0.1208 - val_loss: 0.1033\n",
      "Epoch 111/600\n",
      "14/14 [==============================] - 0s 3ms/step - loss: 0.1187 - val_loss: 0.1136\n",
      "Epoch 112/600\n",
      "14/14 [==============================] - 0s 4ms/step - loss: 0.0932 - val_loss: 0.1055\n",
      "Epoch 113/600\n",
      "14/14 [==============================] - 0s 3ms/step - loss: 0.0962 - val_loss: 0.0987\n",
      "Epoch 114/600\n",
      "14/14 [==============================] - 0s 4ms/step - loss: 0.1227 - val_loss: 0.1153\n",
      "Epoch 115/600\n",
      "14/14 [==============================] - 0s 4ms/step - loss: 0.1516 - val_loss: 0.1035\n",
      "Epoch 116/600\n",
      "14/14 [==============================] - 0s 4ms/step - loss: 0.1032 - val_loss: 0.1007\n",
      "Epoch 117/600\n",
      "14/14 [==============================] - 0s 4ms/step - loss: 0.0985 - val_loss: 0.1041\n",
      "Epoch 118/600\n",
      "14/14 [==============================] - 0s 4ms/step - loss: 0.0733 - val_loss: 0.1096\n",
      "Epoch 119/600\n",
      "14/14 [==============================] - 0s 3ms/step - loss: 0.0983 - val_loss: 0.1090\n",
      "Epoch 120/600\n",
      "14/14 [==============================] - 0s 4ms/step - loss: 0.0812 - val_loss: 0.1188\n",
      "Epoch 121/600\n",
      "14/14 [==============================] - 0s 3ms/step - loss: 0.0778 - val_loss: 0.1033\n",
      "Epoch 122/600\n",
      "14/14 [==============================] - 0s 4ms/step - loss: 0.0834 - val_loss: 0.1078\n",
      "Epoch 123/600\n",
      "14/14 [==============================] - 0s 3ms/step - loss: 0.1121 - val_loss: 0.1232\n",
      "Epoch 124/600\n",
      "14/14 [==============================] - 0s 4ms/step - loss: 0.0900 - val_loss: 0.1059\n",
      "Epoch 125/600\n",
      "14/14 [==============================] - 0s 3ms/step - loss: 0.0928 - val_loss: 0.1211\n",
      "Epoch 126/600\n",
      "14/14 [==============================] - 0s 4ms/step - loss: 0.0687 - val_loss: 0.1034\n",
      "Epoch 127/600\n",
      "14/14 [==============================] - 0s 3ms/step - loss: 0.0632 - val_loss: 0.1049\n",
      "Epoch 128/600\n",
      "14/14 [==============================] - 0s 3ms/step - loss: 0.0574 - val_loss: 0.1139\n",
      "Epoch 129/600\n",
      "14/14 [==============================] - 0s 3ms/step - loss: 0.1010 - val_loss: 0.1061\n",
      "Epoch 130/600\n",
      "14/14 [==============================] - 0s 4ms/step - loss: 0.0803 - val_loss: 0.1036\n",
      "Epoch 131/600\n",
      "14/14 [==============================] - 0s 3ms/step - loss: 0.0812 - val_loss: 0.1069\n",
      "Epoch 132/600\n",
      "14/14 [==============================] - 0s 4ms/step - loss: 0.0759 - val_loss: 0.1077\n",
      "Epoch 133/600\n",
      "14/14 [==============================] - 0s 4ms/step - loss: 0.1104 - val_loss: 0.1096\n",
      "Epoch 134/600\n",
      "14/14 [==============================] - 0s 4ms/step - loss: 0.0813 - val_loss: 0.1129\n",
      "Epoch 135/600\n",
      "14/14 [==============================] - 0s 4ms/step - loss: 0.0801 - val_loss: 0.1090\n",
      "Epoch 136/600\n",
      "14/14 [==============================] - 0s 3ms/step - loss: 0.0827 - val_loss: 0.1057\n",
      "Epoch 137/600\n",
      "14/14 [==============================] - 0s 3ms/step - loss: 0.1064 - val_loss: 0.1170\n",
      "Epoch 138/600\n",
      "14/14 [==============================] - 0s 4ms/step - loss: 0.0808 - val_loss: 0.1072\n",
      "Epoch 00138: early stopping\n"
     ]
    },
    {
     "data": {
      "text/plain": [
       "<tensorflow.python.keras.callbacks.History at 0x7f44502f00a0>"
      ]
     },
     "execution_count": 18,
     "metadata": {},
     "output_type": "execute_result"
    }
   ],
   "source": [
    "model.fit(x=X_train, \n",
    "          y=y_train, \n",
    "          epochs=600,\n",
    "          validation_data=(X_test, y_test), verbose=1,\n",
    "          callbacks=[early_stop,board]\n",
    "          )"
   ]
  },
  {
   "cell_type": "markdown",
   "metadata": {},
   "source": [
    "# Running Tensorboard\n"
   ]
  },
  {
   "cell_type": "markdown",
   "metadata": {},
   "source": [
    "## Running through the Command Line\n",
    "\n",
    "**Watch video to see how to run Tensorboard through a command line call.**"
   ]
  },
  {
   "cell_type": "markdown",
   "metadata": {},
   "source": [
    "Tensorboard will run locally in your browser at [http://localhost:6006/](http://localhost:6006/)\n"
   ]
  },
  {
   "cell_type": "code",
   "execution_count": 19,
   "metadata": {},
   "outputs": [
    {
     "name": "stdout",
     "output_type": "stream",
     "text": [
      "logs/fit\n"
     ]
    }
   ],
   "source": [
    "print(log_directory)"
   ]
  },
  {
   "cell_type": "code",
   "execution_count": 20,
   "metadata": {},
   "outputs": [
    {
     "data": {
      "text/plain": [
       "'/home/marcel/Udemy/Py_DS_ML_Bootcamp/22-Deep Learning/TensorFlow_FILES/ANNs'"
      ]
     },
     "execution_count": 20,
     "metadata": {},
     "output_type": "execute_result"
    }
   ],
   "source": [
    "pwd"
   ]
  },
  {
   "cell_type": "markdown",
   "metadata": {},
   "source": [
    "### Use cd at your command line to change directory to the file path reported back by pwd or your current .py file location.\n",
    "### Then run this code at your command line or terminal"
   ]
  },
  {
   "cell_type": "code",
   "execution_count": null,
   "metadata": {},
   "outputs": [],
   "source": [
    "tensorboard --logdir logs\\fit "
   ]
  }
 ],
 "metadata": {
  "kernelspec": {
   "display_name": "Python 3",
   "language": "python",
   "name": "python3"
  },
  "language_info": {
   "codemirror_mode": {
    "name": "ipython",
    "version": 3
   },
   "file_extension": ".py",
   "mimetype": "text/x-python",
   "name": "python",
   "nbconvert_exporter": "python",
   "pygments_lexer": "ipython3",
   "version": "3.8.8"
  }
 },
 "nbformat": 4,
 "nbformat_minor": 2
}
